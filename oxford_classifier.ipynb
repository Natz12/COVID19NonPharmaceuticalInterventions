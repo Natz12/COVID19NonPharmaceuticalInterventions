{
 "cells": [
  {
   "cell_type": "code",
   "execution_count": 145,
   "metadata": {},
   "outputs": [
    {
     "name": "stdout",
     "output_type": "stream",
     "text": [
      "Collecting seaborn\n",
      "\u001b[?25l  Downloading https://files.pythonhosted.org/packages/c7/e6/54aaaafd0b87f51dfba92ba73da94151aa3bc179e5fe88fc5dfb3038e860/seaborn-0.10.1-py3-none-any.whl (215kB)\n",
      "\u001b[K    100% |################################| 225kB 2.2MB/s ta 0:00:01\n",
      "\u001b[?25hRequirement already satisfied: matplotlib>=2.1.2 in /usr/local/lib/python3.6/dist-packages (from seaborn) (2.2.2)\n",
      "Requirement already satisfied: scipy>=1.0.1 in /usr/local/lib/python3.6/dist-packages (from seaborn) (1.0.1)\n",
      "Requirement already satisfied: numpy>=1.13.3 in /usr/local/lib/python3.6/dist-packages (from seaborn) (1.14.3)\n",
      "Requirement already satisfied: pandas>=0.22.0 in /usr/local/lib/python3.6/dist-packages (from seaborn) (0.22.0)\n",
      "Requirement already satisfied: six>=1.10 in /usr/local/lib/python3.6/dist-packages (from matplotlib>=2.1.2->seaborn) (1.11.0)\n",
      "Requirement already satisfied: kiwisolver>=1.0.1 in /usr/local/lib/python3.6/dist-packages (from matplotlib>=2.1.2->seaborn) (1.0.1)\n",
      "Requirement already satisfied: python-dateutil>=2.1 in /usr/local/lib/python3.6/dist-packages (from matplotlib>=2.1.2->seaborn) (2.7.2)\n",
      "Requirement already satisfied: cycler>=0.10 in /usr/local/lib/python3.6/dist-packages (from matplotlib>=2.1.2->seaborn) (0.10.0)\n",
      "Requirement already satisfied: pytz in /usr/local/lib/python3.6/dist-packages (from matplotlib>=2.1.2->seaborn) (2018.4)\n",
      "Requirement already satisfied: pyparsing!=2.0.4,!=2.1.2,!=2.1.6,>=2.0.1 in /usr/local/lib/python3.6/dist-packages (from matplotlib>=2.1.2->seaborn) (2.2.0)\n",
      "Requirement already satisfied: setuptools in /usr/local/lib/python3.6/dist-packages (from kiwisolver>=1.0.1->matplotlib>=2.1.2->seaborn) (39.1.0)\n",
      "Installing collected packages: seaborn\n",
      "Successfully installed seaborn-0.10.1\n",
      "\u001b[33mYou are using pip version 10.0.1, however version 20.1b1 is available.\n",
      "You should consider upgrading via the 'pip install --upgrade pip' command.\u001b[0m\n"
     ]
    }
   ],
   "source": [
    "!pip install seaborn"
   ]
  },
  {
   "cell_type": "code",
   "execution_count": 1,
   "metadata": {},
   "outputs": [],
   "source": [
    "import pandas as pd\n",
    "import numpy as np\n",
    "import matplotlib\n",
    "import matplotlib.pyplot as plt\n",
    "import matplotlib.patches as ptch\n",
    "\n",
    "from datetime import datetime\n",
    "import time\n",
    "from os import listdir\n",
    "from os.path import isfile, join\n",
    "import re\n",
    "\n",
    "plt.rcParams.update(plt.rcParamsDefault)"
   ]
  },
  {
   "cell_type": "code",
   "execution_count": 2,
   "metadata": {},
   "outputs": [],
   "source": [
    "df = pd.read_csv('data/OxCGRT_Download_280420_171537_Full.csv')"
   ]
  },
  {
   "cell_type": "code",
   "execution_count": 91,
   "metadata": {},
   "outputs": [
    {
     "name": "stdout",
     "output_type": "stream",
     "text": [
      "['CountryName' 'CountryCode' 'Date' 'S1_School closing' 'S1_IsGeneral'\n",
      " 'S1_Notes' 'S2_Workplace closing' 'S2_IsGeneral' 'S2_Notes'\n",
      " 'S3_Cancel public events' 'S3_IsGeneral' 'S3_Notes'\n",
      " 'S4_Close public transport' 'S4_IsGeneral' 'S4_Notes'\n",
      " 'S5_Public information campaigns' 'S5_IsGeneral' 'S5_Notes'\n",
      " 'S6_Restrictions on internal movement' 'S6_IsGeneral' 'S6_Notes'\n",
      " 'S7_International travel controls' 'S7_Notes' 'S8_Fiscal measures'\n",
      " 'S8_Notes' 'S9_Monetary measures' 'S9_Notes'\n",
      " 'S10_Emergency investment in health care' 'S10_Notes'\n",
      " 'S11_Investment in Vaccines' 'S11_Notes' 'S12_Testing framework'\n",
      " 'S12_Notes' 'S13_Contact tracing' 'S13_Notes' 'ConfirmedCases'\n",
      " 'ConfirmedDeaths' 'StringencyIndex' 'StringencyIndexForDisplay'\n",
      " 'Unnamed: 39']\n"
     ]
    }
   ],
   "source": [
    "print(df.columns.values)"
   ]
  },
  {
   "cell_type": "code",
   "execution_count": 98,
   "metadata": {},
   "outputs": [
    {
     "data": {
      "text/plain": [
       "array(['S1_School closing', 'S2_Workplace closing',\n",
       "       'S3_Cancel public events', 'S4_Close public transport',\n",
       "       'S5_Public information campaigns',\n",
       "       'S6_Restrictions on internal movement',\n",
       "       'S7_International travel controls', 'S8_Fiscal measures',\n",
       "       'S9_Monetary measures', 'S10_Emergency investment in health care',\n",
       "       'S11_Investment in Vaccines', 'S12_Testing framework',\n",
       "       'S13_Contact tracing'], dtype=object)"
      ]
     },
     "execution_count": 98,
     "metadata": {},
     "output_type": "execute_result"
    }
   ],
   "source": [
    "category_names = np.take(df.columns.values, [3, 6, 9, 12, 15, 18, 21, 23, 25, 27, 29, 31, 33])\n",
    "category_names\n"
   ]
  },
  {
   "cell_type": "code",
   "execution_count": 95,
   "metadata": {},
   "outputs": [
    {
     "data": {
      "text/html": [
       "<div>\n",
       "<style scoped>\n",
       "    .dataframe tbody tr th:only-of-type {\n",
       "        vertical-align: middle;\n",
       "    }\n",
       "\n",
       "    .dataframe tbody tr th {\n",
       "        vertical-align: top;\n",
       "    }\n",
       "\n",
       "    .dataframe thead th {\n",
       "        text-align: right;\n",
       "    }\n",
       "</style>\n",
       "<table border=\"1\" class=\"dataframe\">\n",
       "  <thead>\n",
       "    <tr style=\"text-align: right;\">\n",
       "      <th></th>\n",
       "      <th>CountryName</th>\n",
       "      <th>CountryCode</th>\n",
       "      <th>Date</th>\n",
       "      <th>S1_School closing</th>\n",
       "      <th>S1_IsGeneral</th>\n",
       "      <th>S1_Notes</th>\n",
       "      <th>S2_Workplace closing</th>\n",
       "      <th>S2_IsGeneral</th>\n",
       "      <th>S2_Notes</th>\n",
       "      <th>S3_Cancel public events</th>\n",
       "      <th>...</th>\n",
       "      <th>S11_Notes</th>\n",
       "      <th>S12_Testing framework</th>\n",
       "      <th>S12_Notes</th>\n",
       "      <th>S13_Contact tracing</th>\n",
       "      <th>S13_Notes</th>\n",
       "      <th>ConfirmedCases</th>\n",
       "      <th>ConfirmedDeaths</th>\n",
       "      <th>StringencyIndex</th>\n",
       "      <th>StringencyIndexForDisplay</th>\n",
       "      <th>Unnamed: 39</th>\n",
       "    </tr>\n",
       "  </thead>\n",
       "  <tbody>\n",
       "    <tr>\n",
       "      <th>2933</th>\n",
       "      <td>Switzerland</td>\n",
       "      <td>CHE</td>\n",
       "      <td>20200228</td>\n",
       "      <td>0.0</td>\n",
       "      <td>NaN</td>\n",
       "      <td>NaN</td>\n",
       "      <td>0.0</td>\n",
       "      <td>NaN</td>\n",
       "      <td>NaN</td>\n",
       "      <td>1.0</td>\n",
       "      <td>...</td>\n",
       "      <td>NaN</td>\n",
       "      <td>2.0</td>\n",
       "      <td>'the tests for people with flu-like symptoms i...</td>\n",
       "      <td>1.0</td>\n",
       "      <td>'In canton Zurich, 17 'detectives' were operat...</td>\n",
       "      <td>8.0</td>\n",
       "      <td>0.0</td>\n",
       "      <td>9.52</td>\n",
       "      <td>9.52</td>\n",
       "      <td>\\t</td>\n",
       "    </tr>\n",
       "    <tr>\n",
       "      <th>1853</th>\n",
       "      <td>Bosnia and Herzegovina</td>\n",
       "      <td>BIH</td>\n",
       "      <td>20200114</td>\n",
       "      <td>0.0</td>\n",
       "      <td>NaN</td>\n",
       "      <td>NaN</td>\n",
       "      <td>0.0</td>\n",
       "      <td>NaN</td>\n",
       "      <td>NaN</td>\n",
       "      <td>0.0</td>\n",
       "      <td>...</td>\n",
       "      <td>NaN</td>\n",
       "      <td>0.0</td>\n",
       "      <td>NaN</td>\n",
       "      <td>0.0</td>\n",
       "      <td>NaN</td>\n",
       "      <td>NaN</td>\n",
       "      <td>NaN</td>\n",
       "      <td>0.00</td>\n",
       "      <td>0.00</td>\n",
       "      <td>\\t</td>\n",
       "    </tr>\n",
       "    <tr>\n",
       "      <th>15132</th>\n",
       "      <td>Syria</td>\n",
       "      <td>SYR</td>\n",
       "      <td>20200204</td>\n",
       "      <td>0.0</td>\n",
       "      <td>NaN</td>\n",
       "      <td>NaN</td>\n",
       "      <td>0.0</td>\n",
       "      <td>NaN</td>\n",
       "      <td>NaN</td>\n",
       "      <td>0.0</td>\n",
       "      <td>...</td>\n",
       "      <td>NaN</td>\n",
       "      <td>0.0</td>\n",
       "      <td>NaN</td>\n",
       "      <td>0.0</td>\n",
       "      <td>NaN</td>\n",
       "      <td>NaN</td>\n",
       "      <td>NaN</td>\n",
       "      <td>4.76</td>\n",
       "      <td>4.76</td>\n",
       "      <td>\\t</td>\n",
       "    </tr>\n",
       "    <tr>\n",
       "      <th>924</th>\n",
       "      <td>Austria</td>\n",
       "      <td>AUT</td>\n",
       "      <td>20200105</td>\n",
       "      <td>0.0</td>\n",
       "      <td>NaN</td>\n",
       "      <td>NaN</td>\n",
       "      <td>0.0</td>\n",
       "      <td>NaN</td>\n",
       "      <td>NaN</td>\n",
       "      <td>0.0</td>\n",
       "      <td>...</td>\n",
       "      <td>NaN</td>\n",
       "      <td>1.0</td>\n",
       "      <td>I couldn't find data on testing before Feb 28 ...</td>\n",
       "      <td>NaN</td>\n",
       "      <td>NaN</td>\n",
       "      <td>0.0</td>\n",
       "      <td>0.0</td>\n",
       "      <td>0.00</td>\n",
       "      <td>0.00</td>\n",
       "      <td>\\t</td>\n",
       "    </tr>\n",
       "    <tr>\n",
       "      <th>12448</th>\n",
       "      <td>Philippines</td>\n",
       "      <td>PHL</td>\n",
       "      <td>20200420</td>\n",
       "      <td>2.0</td>\n",
       "      <td>1.0</td>\n",
       "      <td>Ref: UNESCO Global monitoring of school closur...</td>\n",
       "      <td>1.0</td>\n",
       "      <td>1.0</td>\n",
       "      <td>Quotation: Refer to point 4 and 5 (alternative...</td>\n",
       "      <td>2.0</td>\n",
       "      <td>...</td>\n",
       "      <td>No data available</td>\n",
       "      <td>2.0</td>\n",
       "      <td>Link: https://drive.google.com/open?id=1TSKVeY...</td>\n",
       "      <td>2.0</td>\n",
       "      <td>Link: https://drive.google.com/file/d/17uiHk4F...</td>\n",
       "      <td>6259.0</td>\n",
       "      <td>409.0</td>\n",
       "      <td>85.71</td>\n",
       "      <td>85.71</td>\n",
       "      <td>\\t</td>\n",
       "    </tr>\n",
       "  </tbody>\n",
       "</table>\n",
       "<p>5 rows × 40 columns</p>\n",
       "</div>"
      ],
      "text/plain": [
       "                  CountryName CountryCode      Date  S1_School closing  \\\n",
       "2933              Switzerland         CHE  20200228                0.0   \n",
       "1853   Bosnia and Herzegovina         BIH  20200114                0.0   \n",
       "15132                   Syria         SYR  20200204                0.0   \n",
       "924                   Austria         AUT  20200105                0.0   \n",
       "12448             Philippines         PHL  20200420                2.0   \n",
       "\n",
       "       S1_IsGeneral                                           S1_Notes  \\\n",
       "2933            NaN                                                NaN   \n",
       "1853            NaN                                                NaN   \n",
       "15132           NaN                                                NaN   \n",
       "924             NaN                                                NaN   \n",
       "12448           1.0  Ref: UNESCO Global monitoring of school closur...   \n",
       "\n",
       "       S2_Workplace closing  S2_IsGeneral  \\\n",
       "2933                    0.0           NaN   \n",
       "1853                    0.0           NaN   \n",
       "15132                   0.0           NaN   \n",
       "924                     0.0           NaN   \n",
       "12448                   1.0           1.0   \n",
       "\n",
       "                                                S2_Notes  \\\n",
       "2933                                                 NaN   \n",
       "1853                                                 NaN   \n",
       "15132                                                NaN   \n",
       "924                                                  NaN   \n",
       "12448  Quotation: Refer to point 4 and 5 (alternative...   \n",
       "\n",
       "       S3_Cancel public events     ...                S11_Notes  \\\n",
       "2933                       1.0     ...                      NaN   \n",
       "1853                       0.0     ...                      NaN   \n",
       "15132                      0.0     ...                      NaN   \n",
       "924                        0.0     ...                      NaN   \n",
       "12448                      2.0     ...       No data available    \n",
       "\n",
       "      S12_Testing framework  \\\n",
       "2933                    2.0   \n",
       "1853                    0.0   \n",
       "15132                   0.0   \n",
       "924                     1.0   \n",
       "12448                   2.0   \n",
       "\n",
       "                                               S12_Notes  S13_Contact tracing  \\\n",
       "2933   'the tests for people with flu-like symptoms i...                  1.0   \n",
       "1853                                                 NaN                  0.0   \n",
       "15132                                                NaN                  0.0   \n",
       "924    I couldn't find data on testing before Feb 28 ...                  NaN   \n",
       "12448  Link: https://drive.google.com/open?id=1TSKVeY...                  2.0   \n",
       "\n",
       "                                               S13_Notes  ConfirmedCases  \\\n",
       "2933   'In canton Zurich, 17 'detectives' were operat...             8.0   \n",
       "1853                                                 NaN             NaN   \n",
       "15132                                                NaN             NaN   \n",
       "924                                                  NaN             0.0   \n",
       "12448  Link: https://drive.google.com/file/d/17uiHk4F...          6259.0   \n",
       "\n",
       "       ConfirmedDeaths StringencyIndex  StringencyIndexForDisplay  Unnamed: 39  \n",
       "2933               0.0            9.52                       9.52           \\t  \n",
       "1853               NaN            0.00                       0.00           \\t  \n",
       "15132              NaN            4.76                       4.76           \\t  \n",
       "924                0.0            0.00                       0.00           \\t  \n",
       "12448            409.0           85.71                      85.71           \\t  \n",
       "\n",
       "[5 rows x 40 columns]"
      ]
     },
     "execution_count": 95,
     "metadata": {},
     "output_type": "execute_result"
    }
   ],
   "source": [
    "df.sample(5)"
   ]
  },
  {
   "cell_type": "code",
   "execution_count": 28,
   "metadata": {},
   "outputs": [
    {
     "name": "stdout",
     "output_type": "stream",
     "text": [
      "Number of notes on interventions:  47098\n"
     ]
    }
   ],
   "source": [
    "notes_cols = [x.endswith('Notes') for x in df.columns]\n",
    "#notes_cols.append(['CountryName', 'CountryCode'])\n",
    "notes_cols_names = df.columns[notes_cols]\n",
    "nnotes = df[notes_cols_names].dropna(how='all').count().sum()\n",
    "print(\"Number of notes on interventions: \", nnotes)"
   ]
  },
  {
   "cell_type": "code",
   "execution_count": 14,
   "metadata": {},
   "outputs": [],
   "source": [
    "notes = df[notes_cols_names].dropna(how='all')"
   ]
  },
  {
   "cell_type": "code",
   "execution_count": 99,
   "metadata": {},
   "outputs": [
    {
     "name": "stdout",
     "output_type": "stream",
     "text": [
      "CPU times: user 2min 12s, sys: 0 ns, total: 2min 12s\n",
      "Wall time: 2min 12s\n"
     ]
    }
   ],
   "source": [
    "%%time\n",
    "\n",
    "cols = ['source', 'category', 'category_name']\n",
    "df2 = pd.DataFrame(columns=cols)\n",
    "for row, row_df in notes.iterrows():\n",
    "    #print(row_df)\n",
    "    for c, source in row_df.iteritems():\n",
    "        if pd.isna(source):\n",
    "            continue\n",
    "        c_numerical = int(c.split('_')[0][1:])\n",
    "        c_name = category_names[c_numerical-1]\n",
    "        #print(cat_numerical, source)\n",
    "        row = pd.DataFrame([[source, c_numerical, c_name]], columns=cols)\n",
    "        df2 = df2.append(row)"
   ]
  },
  {
   "cell_type": "code",
   "execution_count": 100,
   "metadata": {},
   "outputs": [
    {
     "data": {
      "text/plain": [
       "(47098, 3)"
      ]
     },
     "execution_count": 100,
     "metadata": {},
     "output_type": "execute_result"
    }
   ],
   "source": [
    "df2.shape"
   ]
  },
  {
   "cell_type": "code",
   "execution_count": 101,
   "metadata": {},
   "outputs": [
    {
     "data": {
      "text/plain": [
       "(5115, 3)"
      ]
     },
     "execution_count": 101,
     "metadata": {},
     "output_type": "execute_result"
    }
   ],
   "source": [
    "# discard duplicates\n",
    "df2_d = df2.drop_duplicates()\n",
    "df2_d.shape"
   ]
  },
  {
   "cell_type": "code",
   "execution_count": 102,
   "metadata": {},
   "outputs": [
    {
     "data": {
      "text/plain": [
       "<matplotlib.axes._subplots.AxesSubplot at 0x7f17a5c08cf8>"
      ]
     },
     "execution_count": 102,
     "metadata": {},
     "output_type": "execute_result"
    },
    {
     "data": {
      "image/png": "[encoded data removed]",
      "text/plain": [
       "<Figure size 432x288 with 1 Axes>"
      ]
     },
     "metadata": {},
     "output_type": "display_data"
    }
   ],
   "source": [
    "df2_d.groupby(by='category').count().plot.bar()"
   ]
  },
  {
   "cell_type": "markdown",
   "metadata": {},
   "source": [
    "# Word embeddings"
   ]
  },
  {
   "cell_type": "code",
   "execution_count": 129,
   "metadata": {},
   "outputs": [
    {
     "data": {
      "text/html": [
       "<div>\n",
       "<style scoped>\n",
       "    .dataframe tbody tr th:only-of-type {\n",
       "        vertical-align: middle;\n",
       "    }\n",
       "\n",
       "    .dataframe tbody tr th {\n",
       "        vertical-align: top;\n",
       "    }\n",
       "\n",
       "    .dataframe thead th {\n",
       "        text-align: right;\n",
       "    }\n",
       "</style>\n",
       "<table border=\"1\" class=\"dataframe\">\n",
       "  <thead>\n",
       "    <tr style=\"text-align: right;\">\n",
       "      <th></th>\n",
       "      <th>category</th>\n",
       "      <th>category_name</th>\n",
       "    </tr>\n",
       "  </thead>\n",
       "  <tbody>\n",
       "    <tr>\n",
       "      <th>0</th>\n",
       "      <td>1</td>\n",
       "      <td>S1_School closing</td>\n",
       "    </tr>\n",
       "    <tr>\n",
       "      <th>0</th>\n",
       "      <td>2</td>\n",
       "      <td>S2_Workplace closing</td>\n",
       "    </tr>\n",
       "    <tr>\n",
       "      <th>0</th>\n",
       "      <td>3</td>\n",
       "      <td>S3_Cancel public events</td>\n",
       "    </tr>\n",
       "    <tr>\n",
       "      <th>0</th>\n",
       "      <td>4</td>\n",
       "      <td>S4_Close public transport</td>\n",
       "    </tr>\n",
       "    <tr>\n",
       "      <th>0</th>\n",
       "      <td>5</td>\n",
       "      <td>S5_Public information campaigns</td>\n",
       "    </tr>\n",
       "    <tr>\n",
       "      <th>0</th>\n",
       "      <td>6</td>\n",
       "      <td>S6_Restrictions on internal movement</td>\n",
       "    </tr>\n",
       "    <tr>\n",
       "      <th>0</th>\n",
       "      <td>7</td>\n",
       "      <td>S7_International travel controls</td>\n",
       "    </tr>\n",
       "    <tr>\n",
       "      <th>0</th>\n",
       "      <td>8</td>\n",
       "      <td>S8_Fiscal measures</td>\n",
       "    </tr>\n",
       "    <tr>\n",
       "      <th>0</th>\n",
       "      <td>9</td>\n",
       "      <td>S9_Monetary measures</td>\n",
       "    </tr>\n",
       "    <tr>\n",
       "      <th>0</th>\n",
       "      <td>10</td>\n",
       "      <td>S10_Emergency investment in health care</td>\n",
       "    </tr>\n",
       "    <tr>\n",
       "      <th>0</th>\n",
       "      <td>11</td>\n",
       "      <td>S11_Investment in Vaccines</td>\n",
       "    </tr>\n",
       "    <tr>\n",
       "      <th>0</th>\n",
       "      <td>12</td>\n",
       "      <td>S12_Testing framework</td>\n",
       "    </tr>\n",
       "    <tr>\n",
       "      <th>0</th>\n",
       "      <td>13</td>\n",
       "      <td>S13_Contact tracing</td>\n",
       "    </tr>\n",
       "  </tbody>\n",
       "</table>\n",
       "</div>"
      ],
      "text/plain": [
       "  category                            category_name\n",
       "0        1                        S1_School closing\n",
       "0        2                     S2_Workplace closing\n",
       "0        3                  S3_Cancel public events\n",
       "0        4                S4_Close public transport\n",
       "0        5          S5_Public information campaigns\n",
       "0        6     S6_Restrictions on internal movement\n",
       "0        7         S7_International travel controls\n",
       "0        8                       S8_Fiscal measures\n",
       "0        9                     S9_Monetary measures\n",
       "0       10  S10_Emergency investment in health care\n",
       "0       11               S11_Investment in Vaccines\n",
       "0       12                    S12_Testing framework\n",
       "0       13                      S13_Contact tracing"
      ]
     },
     "execution_count": 129,
     "metadata": {},
     "output_type": "execute_result"
    }
   ],
   "source": [
    "categories = df2_d[['category', 'category_name']].drop_duplicates()\n",
    "categories = categories.sort_values(by='category')\n",
    "categories"
   ]
  },
  {
   "cell_type": "code",
   "execution_count": 138,
   "metadata": {},
   "outputs": [],
   "source": [
    "data = df2_d['source']\n",
    "y = df2_d['category'].astype(int)\n",
    "#categories = y.unique()"
   ]
  },
  {
   "cell_type": "code",
   "execution_count": 139,
   "metadata": {},
   "outputs": [
    {
     "data": {
      "text/plain": [
       "array([12,  7,  1,  5,  8,  9,  2,  3,  6,  4, 13, 10, 11])"
      ]
     },
     "execution_count": 139,
     "metadata": {},
     "output_type": "execute_result"
    }
   ],
   "source": [
    "y.unique()"
   ]
  },
  {
   "cell_type": "code",
   "execution_count": 140,
   "metadata": {},
   "outputs": [
    {
     "data": {
      "text/plain": [
       "(5115, 8236)"
      ]
     },
     "execution_count": 140,
     "metadata": {},
     "output_type": "execute_result"
    }
   ],
   "source": [
    "from sklearn.feature_extraction.text import TfidfVectorizer\n",
    "\n",
    "tfidf = TfidfVectorizer(sublinear_tf=True, min_df=5, norm='l2', encoding='latin-1', ngram_range=(1, 2), stop_words='english')\n",
    "X = tfidf.fit_transform( data ).toarray()\n",
    "X.shape"
   ]
  },
  {
   "cell_type": "code",
   "execution_count": 141,
   "metadata": {},
   "outputs": [
    {
     "name": "stdout",
     "output_type": "stream",
     "text": [
      "# 'S1_School closing':\n",
      "  . Most correlated unigrams:\n",
      ". school\n",
      ". schools\n",
      "  . Most correlated bigrams:\n",
      ". unesco org\n",
      ". schools closed\n",
      "# 'S2_Workplace closing':\n",
      "  . Most correlated unigrams:\n",
      ". workplaces\n",
      ". work\n",
      "  . Most correlated bigrams:\n",
      ". non essential\n",
      ". work home\n",
      "# 'S3_Cancel public events':\n",
      "  . Most correlated unigrams:\n",
      ". gatherings\n",
      ". events\n",
      "  . Most correlated bigrams:\n",
      ". public gatherings\n",
      ". public events\n",
      "# 'S4_Close public transport':\n",
      "  . Most correlated unigrams:\n",
      ". transportation\n",
      ". transport\n",
      "  . Most correlated bigrams:\n",
      ". public transportation\n",
      ". public transport\n",
      "# 'S5_Public information campaigns':\n",
      "  . Most correlated unigrams:\n",
      ". twitter\n",
      ". campaign\n",
      "  . Most correlated bigrams:\n",
      ". https twitter\n",
      ". public information\n",
      "# 'S6_Restrictions on internal movement':\n",
      "  . Most correlated unigrams:\n",
      ". curfew\n",
      ". movement\n",
      "  . Most correlated bigrams:\n",
      ". internal movement\n",
      ". stay home\n",
      "# 'S7_International travel controls':\n",
      "  . Most correlated unigrams:\n",
      ". border\n",
      ". flights\n",
      "  . Most correlated bigrams:\n",
      ". taken border\n",
      ". border crossings\n",
      "# 'S8_Fiscal measures':\n",
      "  . Most correlated unigrams:\n",
      ". package\n",
      ". billion\n",
      "  . Most correlated bigrams:\n",
      ". small medium\n",
      ". stimulus package\n",
      "# 'S9_Monetary measures':\n",
      "  . Most correlated unigrams:\n",
      ". tradingeconomics\n",
      ". rate\n",
      "  . Most correlated bigrams:\n",
      ". https tradingeconomics\n",
      ". tradingeconomics com\n",
      "# 'S10_Emergency investment in health care':\n",
      "  . Most correlated unigrams:\n",
      ". equipment\n",
      ". million\n",
      "  . Most correlated bigrams:\n",
      ". agencia saude\n",
      ". health care\n",
      "# 'S11_Investment in Vaccines':\n",
      "  . Most correlated unigrams:\n",
      ". vaccines\n",
      ". vaccine\n",
      "  . Most correlated bigrams:\n",
      ". vaccine development\n",
      ". investment vaccines\n",
      "# 'S12_Testing framework':\n",
      "  . Most correlated unigrams:\n",
      ". tests\n",
      ". testing\n",
      "  . Most correlated bigrams:\n",
      ". testing policy\n",
      ". tested https\n",
      "# 'S13_Contact tracing':\n",
      "  . Most correlated unigrams:\n",
      ". contact\n",
      ". tracing\n",
      "  . Most correlated bigrams:\n",
      ". tracing confirmed\n",
      ". contact tracing\n"
     ]
    }
   ],
   "source": [
    "from sklearn.feature_selection import chi2\n",
    "\n",
    "N = 2\n",
    "for i, cat_series in categories.iterrows():\n",
    "    category_id = cat_series.values[0]\n",
    "    category_name = cat_series.values[1]\n",
    "    \n",
    "    features_chi2 = chi2(X, y == category_id)\n",
    "    indices = np.argsort(features_chi2[0])\n",
    "    \n",
    "    feature_names = np.array(tfidf.get_feature_names())[indices]\n",
    "    \n",
    "    unigrams = [v for v in feature_names if len(v.split(' ')) == 1]\n",
    "    bigrams = [v for v in feature_names if len(v.split(' ')) == 2]\n",
    "    \n",
    "    print(\"# '{}':\".format(category_name))\n",
    "    print(\"  . Most correlated unigrams:\\n. {}\".format('\\n. '.join(unigrams[-N:])))\n",
    "    print(\"  . Most correlated bigrams:\\n. {}\".format('\\n. '.join(bigrams[-N:])))"
   ]
  },
  {
   "cell_type": "markdown",
   "metadata": {},
   "source": [
    "# Model Selection\n",
    "## Test Multinomial Naive Bayes"
   ]
  },
  {
   "cell_type": "code",
   "execution_count": 115,
   "metadata": {},
   "outputs": [],
   "source": [
    "from sklearn.model_selection import train_test_split\n",
    "from sklearn.feature_extraction.text import CountVectorizer\n",
    "from sklearn.feature_extraction.text import TfidfTransformer\n",
    "\n",
    "X_train, X_test, y_train, y_test = train_test_split(df2_d['source'], df2_d['category_name'], random_state = 0)\n",
    "count_vect = CountVectorizer()\n",
    "X_train_counts = count_vect.fit_transform(X_train)\n",
    "tfidf_transformer = TfidfTransformer()\n",
    "X_train_tfidf = tfidf_transformer.fit_transform(X_train_counts)"
   ]
  },
  {
   "cell_type": "code",
   "execution_count": 153,
   "metadata": {},
   "outputs": [],
   "source": [
    "from sklearn.svm import LinearSVC\n",
    "from sklearn.naive_bayes import MultinomialNB\n",
    "from sklearn.linear_model import LogisticRegression\n",
    "from sklearn.ensemble import RandomForestClassifier\n",
    "from sklearn.ensemble import GradientBoostingClassifier\n",
    "from sklearn.neural_network import MLPClassifier\n",
    "\n",
    "from sklearn.model_selection import cross_val_score\n",
    "from sklearn import metrics"
   ]
  },
  {
   "cell_type": "code",
   "execution_count": 117,
   "metadata": {},
   "outputs": [],
   "source": [
    "clf = MultinomialNB().fit(X_train_tfidf, y_train)"
   ]
  },
  {
   "cell_type": "code",
   "execution_count": null,
   "metadata": {},
   "outputs": [],
   "source": [
    "y_pred = clf.predict(X_test)\n",
    "print(\"Accuracy:\", metrics.accuracy_score(y_test, y_pred))"
   ]
  },
  {
   "cell_type": "code",
   "execution_count": 120,
   "metadata": {},
   "outputs": [
    {
     "data": {
      "text/plain": [
       "\"'EU responds to fighting the pandemic in Afghanistan by directing EUR 117 million to address health and socio-economic impacts.'\\r\\n\\r\\nhttps://web.archive.org/web/20200413230804/https://eeas.europa.eu/delegations/afghanistan_en/77499/Coronavirus:%20EU%20responds%20globally%20and%20in%20Afghanistan%20to%20fight%20the%20pandemic\""
      ]
     },
     "execution_count": 120,
     "metadata": {},
     "output_type": "execute_result"
    }
   ],
   "source": [
    "X_test.values[0]"
   ]
  },
  {
   "cell_type": "code",
   "execution_count": 121,
   "metadata": {},
   "outputs": [
    {
     "name": "stdout",
     "output_type": "stream",
     "text": [
      "['S8_Fiscal measures']\n"
     ]
    }
   ],
   "source": [
    "print(clf.predict(count_vect.transform([X_test.values[0]])))"
   ]
  },
  {
   "cell_type": "markdown",
   "metadata": {},
   "source": [
    "## Cross validation"
   ]
  },
  {
   "cell_type": "code",
   "execution_count": 162,
   "metadata": {},
   "outputs": [
    {
     "name": "stdout",
     "output_type": "stream",
     "text": [
      "Training model  RandomForestClassifier(bootstrap=True, class_weight=None, criterion='gini',\n",
      "            max_depth=3, max_features='auto', max_leaf_nodes=None,\n",
      "            min_impurity_decrease=0.0, min_impurity_split=None,\n",
      "            min_samples_leaf=1, min_samples_split=2,\n",
      "            min_weight_fraction_leaf=0.0, n_estimators=300, n_jobs=1,\n",
      "            oob_score=False, random_state=0, verbose=0, warm_start=False)\n",
      "Training model  MLPClassifier(activation='relu', alpha=0.0001, batch_size='auto', beta_1=0.9,\n",
      "       beta_2=0.999, early_stopping=False, epsilon=1e-08,\n",
      "       hidden_layer_sizes=(100,), learning_rate='constant',\n",
      "       learning_rate_init=0.001, max_iter=1000, momentum=0.9,\n",
      "       nesterovs_momentum=True, power_t=0.5, random_state=0, shuffle=True,\n",
      "       solver='adam', tol=0.0001, validation_fraction=0.1, verbose=False,\n",
      "       warm_start=False)\n",
      "Training model  LinearSVC(C=1.0, class_weight=None, dual=True, fit_intercept=True,\n",
      "     intercept_scaling=1, loss='squared_hinge', max_iter=1000,\n",
      "     multi_class='ovr', penalty='l2', random_state=None, tol=0.0001,\n",
      "     verbose=0)\n",
      "Training model  MultinomialNB(alpha=1.0, class_prior=None, fit_prior=True)\n",
      "Training model  LogisticRegression(C=1.0, class_weight=None, dual=False, fit_intercept=True,\n",
      "          intercept_scaling=1, max_iter=100, multi_class='ovr', n_jobs=1,\n",
      "          penalty='l2', random_state=0, solver='liblinear', tol=0.0001,\n",
      "          verbose=0, warm_start=False)\n",
      "CPU times: user 20min 36s, sys: 14min 14s, total: 34min 51s\n",
      "Wall time: 4min 11s\n"
     ]
    }
   ],
   "source": [
    "%%time\n",
    "\n",
    "models = [\n",
    "    RandomForestClassifier(n_estimators=300, max_depth=3, random_state=0),\n",
    "#    GradientBoostingClassifier(n_estimators=500, max_depth=3, random_state=0),\n",
    "    MLPClassifier(max_iter=1000, random_state=0),\n",
    "    LinearSVC(),\n",
    "    MultinomialNB(),\n",
    "    LogisticRegression(random_state=0),\n",
    "]\n",
    "\n",
    "CV = 3\n",
    "cv_df = pd.DataFrame(index=range(CV * len(models)))\n",
    "\n",
    "entries = []\n",
    "\n",
    "for model in models:\n",
    "    print(\"Training model \", model)\n",
    "    model_name = model.__class__.__name__\n",
    "    accuracies = cross_val_score(model, X, y, scoring='accuracy', cv=CV)\n",
    "    for fold_idx, accuracy in enumerate(accuracies):\n",
    "        entries.append((model_name, fold_idx, accuracy))\n"
   ]
  },
  {
   "cell_type": "code",
   "execution_count": 163,
   "metadata": {},
   "outputs": [],
   "source": [
    "cv_df = pd.DataFrame(entries, columns=['model_name', 'fold_idx', 'accuracy'])\n"
   ]
  },
  {
   "cell_type": "code",
   "execution_count": 165,
   "metadata": {},
   "outputs": [
    {
     "data": {
      "image/png": "[encoded data removed]",
      "text/plain": [
       "<Figure size 432x288 with 1 Axes>"
      ]
     },
     "metadata": {},
     "output_type": "display_data"
    }
   ],
   "source": [
    "import seaborn as sns\n",
    "\n",
    "sns.boxplot(x='model_name', y='accuracy', data=cv_df)\n",
    "sns.stripplot(x='model_name', y='accuracy', data=cv_df, \n",
    "              size=8, jitter=True, edgecolor=\"gray\", linewidth=2)\n",
    "plt.xticks(rotation=45, ha='right')\n",
    "plt.show()"
   ]
  },
  {
   "cell_type": "code",
   "execution_count": 166,
   "metadata": {},
   "outputs": [
    {
     "data": {
      "text/plain": [
       "model_name\n",
       "LinearSVC                 0.673113\n",
       "LogisticRegression        0.656297\n",
       "MLPClassifier             0.638891\n",
       "MultinomialNB             0.575350\n",
       "RandomForestClassifier    0.270382\n",
       "Name: accuracy, dtype: float64"
      ]
     },
     "execution_count": 166,
     "metadata": {},
     "output_type": "execute_result"
    }
   ],
   "source": [
    "cv_df.groupby('model_name').accuracy.mean().sort_values(ascending=False)"
   ]
  },
  {
   "cell_type": "markdown",
   "metadata": {},
   "source": [
    "# Best Model Evaluation: Linear Support Vector Classifier"
   ]
  },
  {
   "cell_type": "code",
   "execution_count": 152,
   "metadata": {},
   "outputs": [
    {
     "data": {
      "image/png": "[encoded data removed]",
      "text/plain": [
       "<Figure size 720x720 with 2 Axes>"
      ]
     },
     "metadata": {},
     "output_type": "display_data"
    }
   ],
   "source": [
    "model = LinearSVC()\n",
    "X_train, X_test, y_train, y_test, indices_train, indices_test = train_test_split(X, y, df2_d.index, test_size=0.33, random_state=0)\n",
    "model.fit(X_train, y_train)\n",
    "y_pred = model.predict(X_test)\n",
    "\n",
    "from sklearn.metrics import confusion_matrix\n",
    "conf_mat = confusion_matrix(y_test, y_pred)\n",
    "fig, ax = plt.subplots(figsize=(10,10))\n",
    "sns.heatmap(conf_mat, annot=True, fmt='d',\n",
    "            xticklabels=categories['category_name'].values, yticklabels=categories['category_name'].values)\n",
    "plt.ylabel('Actual')\n",
    "plt.xlabel('Predicted')\n",
    "plt.show()"
   ]
  },
  {
   "cell_type": "code",
   "execution_count": null,
   "metadata": {},
   "outputs": [],
   "source": []
  }
 ],
 "metadata": {
  "kernelspec": {
   "display_name": "Python 3",
   "language": "python",
   "name": "python3"
  },
  "language_info": {
   "codemirror_mode": {
    "name": "ipython",
    "version": 3
   },
   "file_extension": ".py",
   "mimetype": "text/x-python",
   "name": "python",
   "nbconvert_exporter": "python",
   "pygments_lexer": "ipython3",
   "version": "3.6.3"
  }
 },
 "nbformat": 4,
 "nbformat_minor": 2
}
